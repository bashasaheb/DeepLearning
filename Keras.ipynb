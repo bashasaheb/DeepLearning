{
 "cells": [
  {
   "cell_type": "code",
   "execution_count": 7,
   "id": "cb93b895",
   "metadata": {},
   "outputs": [
    {
     "name": "stdout",
     "output_type": "stream",
     "text": [
      "Epoch 1/10\n",
      "782/782 [==============================] - 11s 13ms/step - loss: 1.5898 - accuracy: 0.4205 - val_loss: 1.3112 - val_accuracy: 0.5320\n",
      "Epoch 2/10\n",
      "782/782 [==============================] - 10s 13ms/step - loss: 1.2205 - accuracy: 0.5643 - val_loss: 1.1393 - val_accuracy: 0.5990\n",
      "Epoch 3/10\n",
      "782/782 [==============================] - 9s 12ms/step - loss: 1.0600 - accuracy: 0.6268 - val_loss: 1.0235 - val_accuracy: 0.6361\n",
      "Epoch 4/10\n",
      "782/782 [==============================] - 9s 12ms/step - loss: 0.9592 - accuracy: 0.6652 - val_loss: 0.9470 - val_accuracy: 0.6674\n",
      "Epoch 5/10\n",
      "782/782 [==============================] - 9s 11ms/step - loss: 0.8726 - accuracy: 0.6982 - val_loss: 0.9103 - val_accuracy: 0.6762\n",
      "Epoch 6/10\n",
      "782/782 [==============================] - 10s 12ms/step - loss: 0.8136 - accuracy: 0.7148 - val_loss: 0.9092 - val_accuracy: 0.6756\n",
      "Epoch 7/10\n",
      "782/782 [==============================] - 10s 12ms/step - loss: 0.7608 - accuracy: 0.7339 - val_loss: 0.8702 - val_accuracy: 0.6941\n",
      "Epoch 8/10\n",
      "782/782 [==============================] - 10s 13ms/step - loss: 0.7217 - accuracy: 0.7477 - val_loss: 0.8960 - val_accuracy: 0.6856\n",
      "Epoch 9/10\n",
      "782/782 [==============================] - 9s 12ms/step - loss: 0.6796 - accuracy: 0.7624 - val_loss: 0.8508 - val_accuracy: 0.7079\n",
      "Epoch 10/10\n",
      "782/782 [==============================] - 9s 12ms/step - loss: 0.6510 - accuracy: 0.7722 - val_loss: 0.8740 - val_accuracy: 0.6990\n"
     ]
    },
    {
     "data": {
      "image/png": "[encoded data removed]",
      "text/plain": [
       "<Figure size 800x800 with 32 Axes>"
      ]
     },
     "metadata": {},
     "output_type": "display_data"
    }
   ],
   "source": [
    "import numpy as np\n",
    "import matplotlib.pyplot as plt\n",
    "from tensorflow.keras.datasets import cifar10\n",
    "from tensorflow.keras.models import Sequential\n",
    "from tensorflow.keras.layers import Conv2D, MaxPooling2D, Flatten, Dense\n",
    "from tensorflow.keras.utils import to_categorical\n",
    "\n",
    "# Load and preprocess the CIFAR-10 dataset\n",
    "(train_images, train_labels), (test_images, test_labels) = cifar10.load_data()\n",
    "train_images = train_images.astype('float32') / 255\n",
    "test_images = test_images.astype('float32') / 255\n",
    "\n",
    "# One-hot encode the labels\n",
    "train_labels = to_categorical(train_labels)\n",
    "test_labels = to_categorical(test_labels)\n",
    "\n",
    "# Define the CNN architecture\n",
    "model = Sequential()\n",
    "model.add(Conv2D(32, (3, 3), activation='relu', input_shape=(32, 32, 3)))\n",
    "model.add(MaxPooling2D((2, 2)))\n",
    "model.add(Conv2D(64, (3, 3), activation='relu'))\n",
    "model.add(MaxPooling2D((2, 2)))\n",
    "model.add(Conv2D(64, (3, 3), activation='relu'))\n",
    "model.add(Flatten())\n",
    "model.add(Dense(64, activation='relu'))\n",
    "model.add(Dense(10, activation='softmax'))\n",
    "\n",
    "# Compile the model\n",
    "model.compile(optimizer='adam',\n",
    "              loss='categorical_crossentropy',\n",
    "              metrics=['accuracy'])\n",
    "\n",
    "# Train the CNN on the CIFAR-10 dataset\n",
    "model.fit(train_images, train_labels, epochs=10, batch_size=64, validation_data=(test_images, test_labels))\n",
    "\n",
    "# Find the name of the first convolutional layer\n",
    "conv_layer_names = [layer.name for layer in model.layers if isinstance(layer, Conv2D)]\n",
    "if len(conv_layer_names) > 0:\n",
    "    first_conv_layer_name = conv_layer_names[0]\n",
    "\n",
    "# Extract the filters from the first convolutional layer\n",
    "filters, biases = model.get_layer(first_conv_layer_name).get_weights()\n",
    "\n",
    "# Normalize the filters for visualization\n",
    "filters_min, filters_max = filters.min(), filters.max()\n",
    "filters = (filters - filters_min) / (filters_max - filters_min)\n",
    "\n",
    "# Plot the filters\n",
    "plt.figure(figsize=(8, 8))\n",
    "for i in range(filters.shape[3]):\n",
    "    plt.subplot(8, 8, i + 1)\n",
    "    plt.imshow(filters[:, :, 0, i], cmap='viridis')\n",
    "    plt.axis('off')\n",
    "\n",
    "plt.show()\n"
   ]
  },
  {
   "cell_type": "code",
   "execution_count": null,
   "id": "989a9ea7",
   "metadata": {},
   "outputs": [],
   "source": []
  }
 ],
 "metadata": {
  "kernelspec": {
   "display_name": "Python 3 (ipykernel)",
   "language": "python",
   "name": "python3"
  },
  "language_info": {
   "codemirror_mode": {
    "name": "ipython",
    "version": 3
   },
   "file_extension": ".py",
   "mimetype": "text/x-python",
   "name": "python",
   "nbconvert_exporter": "python",
   "pygments_lexer": "ipython3",
   "version": "3.11.5"
  }
 },
 "nbformat": 4,
 "nbformat_minor": 5
}
